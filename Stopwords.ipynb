{
  "nbformat": 4,
  "nbformat_minor": 0,
  "metadata": {
    "colab": {
      "provenance": [],
      "authorship_tag": "ABX9TyP8JRVxjmeLCSQcX9BzA71m",
      "include_colab_link": true
    },
    "kernelspec": {
      "name": "python3",
      "display_name": "Python 3"
    },
    "language_info": {
      "name": "python"
    }
  },
  "cells": [
    {
      "cell_type": "markdown",
      "metadata": {
        "id": "view-in-github",
        "colab_type": "text"
      },
      "source": [
        "<a href=\"https://colab.research.google.com/github/Nisarg111/NLP-Basics/blob/main/Stopwords.ipynb\" target=\"_parent\"><img src=\"https://colab.research.google.com/assets/colab-badge.svg\" alt=\"Open In Colab\"/></a>"
      ]
    },
    {
      "cell_type": "code",
      "execution_count": 1,
      "metadata": {
        "id": "amgDcACA1w5_"
      },
      "outputs": [],
      "source": [
        "paragraph = \"\"\"I have three visions for India. In 3000 years of our history, people from all over\n",
        "               the world have come and invaded us, captured our lands, conquered our minds.\n",
        "               From Alexander onwards, the Greeks, the Turks, the Moguls, the Portuguese, the British,\n",
        "               the French, the Dutch, all of them came and looted us, took over what was ours.\n",
        "               Yet we have not done this to any other nation. We have not conquered anyone.\n",
        "               We have not grabbed their land, their culture,\n",
        "               their history and tried to enforce our way of life on them.\n",
        "               Why? Because we respect the freedom of others.That is why my\n",
        "               first vision is that of freedom. I believe that India got its first vision of\n",
        "               this in 1857, when we started the War of Independence. It is this freedom that\n",
        "               we must protect and nurture and build on. If we are not free, no one will respect us.\n",
        "               My second vision for India’s development. For fifty years we have been a developing nation.\n",
        "               It is time we see ourselves as a developed nation. We are among the top 5 nations of the world\n",
        "               in terms of GDP. We have a 10 percent growth rate in most areas. Our poverty levels are falling.\n",
        "               Our achievements are being globally recognised today. Yet we lack the self-confidence to\n",
        "               see ourselves as a developed nation, self-reliant and self-assured. Isn’t this incorrect?\n",
        "               I have a third vision. India must stand up to the world. Because I believe that unless India\n",
        "               stands up to the world, no one will respect us. Only strength respects strength. We must be\n",
        "               strong not only as a military power but also as an economic power. Both must go hand-in-hand.\n",
        "               My good fortune was to have worked with three great minds. Dr. Vikram Sarabhai of the Dept. of\n",
        "               space, Professor Satish Dhawan, who succeeded him and Dr. Brahm Prakash, father of nuclear material.\n",
        "               I was lucky to have worked with all three of them closely and consider this the great opportunity of my life.\n",
        "               I see four milestones in my career\"\"\""
      ]
    },
    {
      "cell_type": "code",
      "source": [
        "from nltk.stem import PorterStemmer"
      ],
      "metadata": {
        "id": "29Sr-Awy15Rx"
      },
      "execution_count": 2,
      "outputs": []
    },
    {
      "cell_type": "code",
      "source": [
        "from nltk.corpus import stopwords"
      ],
      "metadata": {
        "id": "1Bc-oQmn187X"
      },
      "execution_count": 3,
      "outputs": []
    },
    {
      "cell_type": "code",
      "source": [
        "import nltk\n",
        "nltk.download('stopwords')"
      ],
      "metadata": {
        "colab": {
          "base_uri": "https://localhost:8080/"
        },
        "id": "YiPdwzwx2BdU",
        "outputId": "073dafe6-4e8f-48db-ae5a-11e959a05d13"
      },
      "execution_count": 6,
      "outputs": [
        {
          "output_type": "stream",
          "name": "stderr",
          "text": [
            "[nltk_data] Downloading package stopwords to /root/nltk_data...\n",
            "[nltk_data]   Unzipping corpora/stopwords.zip.\n"
          ]
        },
        {
          "output_type": "execute_result",
          "data": {
            "text/plain": [
              "True"
            ]
          },
          "metadata": {},
          "execution_count": 6
        }
      ]
    },
    {
      "cell_type": "code",
      "source": [
        "stopwords.words('english')"
      ],
      "metadata": {
        "colab": {
          "base_uri": "https://localhost:8080/"
        },
        "id": "0dCF_bfY2Uaj",
        "outputId": "38754903-e062-4bcd-9ecb-1fdbce9c3221"
      },
      "execution_count": 7,
      "outputs": [
        {
          "output_type": "execute_result",
          "data": {
            "text/plain": [
              "['i',\n",
              " 'me',\n",
              " 'my',\n",
              " 'myself',\n",
              " 'we',\n",
              " 'our',\n",
              " 'ours',\n",
              " 'ourselves',\n",
              " 'you',\n",
              " \"you're\",\n",
              " \"you've\",\n",
              " \"you'll\",\n",
              " \"you'd\",\n",
              " 'your',\n",
              " 'yours',\n",
              " 'yourself',\n",
              " 'yourselves',\n",
              " 'he',\n",
              " 'him',\n",
              " 'his',\n",
              " 'himself',\n",
              " 'she',\n",
              " \"she's\",\n",
              " 'her',\n",
              " 'hers',\n",
              " 'herself',\n",
              " 'it',\n",
              " \"it's\",\n",
              " 'its',\n",
              " 'itself',\n",
              " 'they',\n",
              " 'them',\n",
              " 'their',\n",
              " 'theirs',\n",
              " 'themselves',\n",
              " 'what',\n",
              " 'which',\n",
              " 'who',\n",
              " 'whom',\n",
              " 'this',\n",
              " 'that',\n",
              " \"that'll\",\n",
              " 'these',\n",
              " 'those',\n",
              " 'am',\n",
              " 'is',\n",
              " 'are',\n",
              " 'was',\n",
              " 'were',\n",
              " 'be',\n",
              " 'been',\n",
              " 'being',\n",
              " 'have',\n",
              " 'has',\n",
              " 'had',\n",
              " 'having',\n",
              " 'do',\n",
              " 'does',\n",
              " 'did',\n",
              " 'doing',\n",
              " 'a',\n",
              " 'an',\n",
              " 'the',\n",
              " 'and',\n",
              " 'but',\n",
              " 'if',\n",
              " 'or',\n",
              " 'because',\n",
              " 'as',\n",
              " 'until',\n",
              " 'while',\n",
              " 'of',\n",
              " 'at',\n",
              " 'by',\n",
              " 'for',\n",
              " 'with',\n",
              " 'about',\n",
              " 'against',\n",
              " 'between',\n",
              " 'into',\n",
              " 'through',\n",
              " 'during',\n",
              " 'before',\n",
              " 'after',\n",
              " 'above',\n",
              " 'below',\n",
              " 'to',\n",
              " 'from',\n",
              " 'up',\n",
              " 'down',\n",
              " 'in',\n",
              " 'out',\n",
              " 'on',\n",
              " 'off',\n",
              " 'over',\n",
              " 'under',\n",
              " 'again',\n",
              " 'further',\n",
              " 'then',\n",
              " 'once',\n",
              " 'here',\n",
              " 'there',\n",
              " 'when',\n",
              " 'where',\n",
              " 'why',\n",
              " 'how',\n",
              " 'all',\n",
              " 'any',\n",
              " 'both',\n",
              " 'each',\n",
              " 'few',\n",
              " 'more',\n",
              " 'most',\n",
              " 'other',\n",
              " 'some',\n",
              " 'such',\n",
              " 'no',\n",
              " 'nor',\n",
              " 'not',\n",
              " 'only',\n",
              " 'own',\n",
              " 'same',\n",
              " 'so',\n",
              " 'than',\n",
              " 'too',\n",
              " 'very',\n",
              " 's',\n",
              " 't',\n",
              " 'can',\n",
              " 'will',\n",
              " 'just',\n",
              " 'don',\n",
              " \"don't\",\n",
              " 'should',\n",
              " \"should've\",\n",
              " 'now',\n",
              " 'd',\n",
              " 'll',\n",
              " 'm',\n",
              " 'o',\n",
              " 're',\n",
              " 've',\n",
              " 'y',\n",
              " 'ain',\n",
              " 'aren',\n",
              " \"aren't\",\n",
              " 'couldn',\n",
              " \"couldn't\",\n",
              " 'didn',\n",
              " \"didn't\",\n",
              " 'doesn',\n",
              " \"doesn't\",\n",
              " 'hadn',\n",
              " \"hadn't\",\n",
              " 'hasn',\n",
              " \"hasn't\",\n",
              " 'haven',\n",
              " \"haven't\",\n",
              " 'isn',\n",
              " \"isn't\",\n",
              " 'ma',\n",
              " 'mightn',\n",
              " \"mightn't\",\n",
              " 'mustn',\n",
              " \"mustn't\",\n",
              " 'needn',\n",
              " \"needn't\",\n",
              " 'shan',\n",
              " \"shan't\",\n",
              " 'shouldn',\n",
              " \"shouldn't\",\n",
              " 'wasn',\n",
              " \"wasn't\",\n",
              " 'weren',\n",
              " \"weren't\",\n",
              " 'won',\n",
              " \"won't\",\n",
              " 'wouldn',\n",
              " \"wouldn't\"]"
            ]
          },
          "metadata": {},
          "execution_count": 7
        }
      ]
    },
    {
      "cell_type": "code",
      "source": [
        "from nltk.stem import PorterStemmer"
      ],
      "metadata": {
        "id": "hf0OIwsc2X1G"
      },
      "execution_count": 8,
      "outputs": []
    },
    {
      "cell_type": "code",
      "source": [
        "stemmer = PorterStemmer()"
      ],
      "metadata": {
        "id": "ybiyt-ax2dcI"
      },
      "execution_count": 10,
      "outputs": []
    },
    {
      "cell_type": "code",
      "source": [
        "import nltk\n",
        "nltk.download('punkt')"
      ],
      "metadata": {
        "colab": {
          "base_uri": "https://localhost:8080/"
        },
        "id": "Mx7YA2pF2u4g",
        "outputId": "41a55ab3-de0f-45bf-987a-d21714afb901"
      },
      "execution_count": 12,
      "outputs": [
        {
          "output_type": "stream",
          "name": "stderr",
          "text": [
            "[nltk_data] Downloading package punkt to /root/nltk_data...\n",
            "[nltk_data]   Unzipping tokenizers/punkt.zip.\n"
          ]
        },
        {
          "output_type": "execute_result",
          "data": {
            "text/plain": [
              "True"
            ]
          },
          "metadata": {},
          "execution_count": 12
        }
      ]
    },
    {
      "cell_type": "code",
      "source": [
        "documents = nltk.sent_tokenize(paragraph)"
      ],
      "metadata": {
        "id": "vUEYIm1F2gPQ"
      },
      "execution_count": 13,
      "outputs": []
    },
    {
      "cell_type": "code",
      "source": [
        "documents"
      ],
      "metadata": {
        "colab": {
          "base_uri": "https://localhost:8080/"
        },
        "id": "ySo44Gis2r0J",
        "outputId": "3322e719-3be9-489f-9fb7-a14de7ac3642"
      },
      "execution_count": 14,
      "outputs": [
        {
          "output_type": "execute_result",
          "data": {
            "text/plain": [
              "['I have three visions for India.',\n",
              " 'In 3000 years of our history, people from all over \\n               the world have come and invaded us, captured our lands, conquered our minds.',\n",
              " 'From Alexander onwards, the Greeks, the Turks, the Moguls, the Portuguese, the British,\\n               the French, the Dutch, all of them came and looted us, took over what was ours.',\n",
              " 'Yet we have not done this to any other nation.',\n",
              " 'We have not conquered anyone.',\n",
              " 'We have not grabbed their land, their culture, \\n               their history and tried to enforce our way of life on them.',\n",
              " 'Why?',\n",
              " 'Because we respect the freedom of others.That is why my \\n               first vision is that of freedom.',\n",
              " 'I believe that India got its first vision of \\n               this in 1857, when we started the War of Independence.',\n",
              " 'It is this freedom that\\n               we must protect and nurture and build on.',\n",
              " 'If we are not free, no one will respect us.',\n",
              " 'My second vision for India’s development.',\n",
              " 'For fifty years we have been a developing nation.',\n",
              " 'It is time we see ourselves as a developed nation.',\n",
              " 'We are among the top 5 nations of the world\\n               in terms of GDP.',\n",
              " 'We have a 10 percent growth rate in most areas.',\n",
              " 'Our poverty levels are falling.',\n",
              " 'Our achievements are being globally recognised today.',\n",
              " 'Yet we lack the self-confidence to\\n               see ourselves as a developed nation, self-reliant and self-assured.',\n",
              " 'Isn’t this incorrect?',\n",
              " 'I have a third vision.',\n",
              " 'India must stand up to the world.',\n",
              " 'Because I believe that unless India \\n               stands up to the world, no one will respect us.',\n",
              " 'Only strength respects strength.',\n",
              " 'We must be \\n               strong not only as a military power but also as an economic power.',\n",
              " 'Both must go hand-in-hand.',\n",
              " 'My good fortune was to have worked with three great minds.',\n",
              " 'Dr. Vikram Sarabhai of the Dept.',\n",
              " 'of \\n               space, Professor Satish Dhawan, who succeeded him and Dr. Brahm Prakash, father of nuclear material.',\n",
              " 'I was lucky to have worked with all three of them closely and consider this the great opportunity of my life.',\n",
              " 'I see four milestones in my career']"
            ]
          },
          "metadata": {},
          "execution_count": 14
        }
      ]
    },
    {
      "cell_type": "code",
      "source": [
        "for i in range(len(documents)):\n",
        "  word = nltk.word_tokenize(documents[i])\n",
        "  print(word)"
      ],
      "metadata": {
        "colab": {
          "base_uri": "https://localhost:8080/"
        },
        "id": "caCMGAZ723lP",
        "outputId": "83b9698d-4b69-4a92-8e45-042ac045ca12"
      },
      "execution_count": 15,
      "outputs": [
        {
          "output_type": "stream",
          "name": "stdout",
          "text": [
            "['I', 'have', 'three', 'visions', 'for', 'India', '.']\n",
            "['In', '3000', 'years', 'of', 'our', 'history', ',', 'people', 'from', 'all', 'over', 'the', 'world', 'have', 'come', 'and', 'invaded', 'us', ',', 'captured', 'our', 'lands', ',', 'conquered', 'our', 'minds', '.']\n",
            "['From', 'Alexander', 'onwards', ',', 'the', 'Greeks', ',', 'the', 'Turks', ',', 'the', 'Moguls', ',', 'the', 'Portuguese', ',', 'the', 'British', ',', 'the', 'French', ',', 'the', 'Dutch', ',', 'all', 'of', 'them', 'came', 'and', 'looted', 'us', ',', 'took', 'over', 'what', 'was', 'ours', '.']\n",
            "['Yet', 'we', 'have', 'not', 'done', 'this', 'to', 'any', 'other', 'nation', '.']\n",
            "['We', 'have', 'not', 'conquered', 'anyone', '.']\n",
            "['We', 'have', 'not', 'grabbed', 'their', 'land', ',', 'their', 'culture', ',', 'their', 'history', 'and', 'tried', 'to', 'enforce', 'our', 'way', 'of', 'life', 'on', 'them', '.']\n",
            "['Why', '?']\n",
            "['Because', 'we', 'respect', 'the', 'freedom', 'of', 'others.That', 'is', 'why', 'my', 'first', 'vision', 'is', 'that', 'of', 'freedom', '.']\n",
            "['I', 'believe', 'that', 'India', 'got', 'its', 'first', 'vision', 'of', 'this', 'in', '1857', ',', 'when', 'we', 'started', 'the', 'War', 'of', 'Independence', '.']\n",
            "['It', 'is', 'this', 'freedom', 'that', 'we', 'must', 'protect', 'and', 'nurture', 'and', 'build', 'on', '.']\n",
            "['If', 'we', 'are', 'not', 'free', ',', 'no', 'one', 'will', 'respect', 'us', '.']\n",
            "['My', 'second', 'vision', 'for', 'India', '’', 's', 'development', '.']\n",
            "['For', 'fifty', 'years', 'we', 'have', 'been', 'a', 'developing', 'nation', '.']\n",
            "['It', 'is', 'time', 'we', 'see', 'ourselves', 'as', 'a', 'developed', 'nation', '.']\n",
            "['We', 'are', 'among', 'the', 'top', '5', 'nations', 'of', 'the', 'world', 'in', 'terms', 'of', 'GDP', '.']\n",
            "['We', 'have', 'a', '10', 'percent', 'growth', 'rate', 'in', 'most', 'areas', '.']\n",
            "['Our', 'poverty', 'levels', 'are', 'falling', '.']\n",
            "['Our', 'achievements', 'are', 'being', 'globally', 'recognised', 'today', '.']\n",
            "['Yet', 'we', 'lack', 'the', 'self-confidence', 'to', 'see', 'ourselves', 'as', 'a', 'developed', 'nation', ',', 'self-reliant', 'and', 'self-assured', '.']\n",
            "['Isn', '’', 't', 'this', 'incorrect', '?']\n",
            "['I', 'have', 'a', 'third', 'vision', '.']\n",
            "['India', 'must', 'stand', 'up', 'to', 'the', 'world', '.']\n",
            "['Because', 'I', 'believe', 'that', 'unless', 'India', 'stands', 'up', 'to', 'the', 'world', ',', 'no', 'one', 'will', 'respect', 'us', '.']\n",
            "['Only', 'strength', 'respects', 'strength', '.']\n",
            "['We', 'must', 'be', 'strong', 'not', 'only', 'as', 'a', 'military', 'power', 'but', 'also', 'as', 'an', 'economic', 'power', '.']\n",
            "['Both', 'must', 'go', 'hand-in-hand', '.']\n",
            "['My', 'good', 'fortune', 'was', 'to', 'have', 'worked', 'with', 'three', 'great', 'minds', '.']\n",
            "['Dr.', 'Vikram', 'Sarabhai', 'of', 'the', 'Dept', '.']\n",
            "['of', 'space', ',', 'Professor', 'Satish', 'Dhawan', ',', 'who', 'succeeded', 'him', 'and', 'Dr.', 'Brahm', 'Prakash', ',', 'father', 'of', 'nuclear', 'material', '.']\n",
            "['I', 'was', 'lucky', 'to', 'have', 'worked', 'with', 'all', 'three', 'of', 'them', 'closely', 'and', 'consider', 'this', 'the', 'great', 'opportunity', 'of', 'my', 'life', '.']\n",
            "['I', 'see', 'four', 'milestones', 'in', 'my', 'career']\n"
          ]
        }
      ]
    },
    {
      "cell_type": "code",
      "source": [
        "# Words are now in there root form\n",
        "\n",
        "for i in range(len(documents)):\n",
        "  word = nltk.word_tokenize(documents[i])\n",
        "  word = [stemmer.stem(word) for word in word]\n",
        "  print(word)"
      ],
      "metadata": {
        "colab": {
          "base_uri": "https://localhost:8080/"
        },
        "id": "IL7R3YbU3Inu",
        "outputId": "cb2591f1-5868-4a0d-e2d8-1d6271629f4c"
      },
      "execution_count": 16,
      "outputs": [
        {
          "output_type": "stream",
          "name": "stdout",
          "text": [
            "['i', 'have', 'three', 'vision', 'for', 'india', '.']\n",
            "['in', '3000', 'year', 'of', 'our', 'histori', ',', 'peopl', 'from', 'all', 'over', 'the', 'world', 'have', 'come', 'and', 'invad', 'us', ',', 'captur', 'our', 'land', ',', 'conquer', 'our', 'mind', '.']\n",
            "['from', 'alexand', 'onward', ',', 'the', 'greek', ',', 'the', 'turk', ',', 'the', 'mogul', ',', 'the', 'portugues', ',', 'the', 'british', ',', 'the', 'french', ',', 'the', 'dutch', ',', 'all', 'of', 'them', 'came', 'and', 'loot', 'us', ',', 'took', 'over', 'what', 'wa', 'our', '.']\n",
            "['yet', 'we', 'have', 'not', 'done', 'thi', 'to', 'ani', 'other', 'nation', '.']\n",
            "['we', 'have', 'not', 'conquer', 'anyon', '.']\n",
            "['we', 'have', 'not', 'grab', 'their', 'land', ',', 'their', 'cultur', ',', 'their', 'histori', 'and', 'tri', 'to', 'enforc', 'our', 'way', 'of', 'life', 'on', 'them', '.']\n",
            "['whi', '?']\n",
            "['becaus', 'we', 'respect', 'the', 'freedom', 'of', 'others.that', 'is', 'whi', 'my', 'first', 'vision', 'is', 'that', 'of', 'freedom', '.']\n",
            "['i', 'believ', 'that', 'india', 'got', 'it', 'first', 'vision', 'of', 'thi', 'in', '1857', ',', 'when', 'we', 'start', 'the', 'war', 'of', 'independ', '.']\n",
            "['it', 'is', 'thi', 'freedom', 'that', 'we', 'must', 'protect', 'and', 'nurtur', 'and', 'build', 'on', '.']\n",
            "['if', 'we', 'are', 'not', 'free', ',', 'no', 'one', 'will', 'respect', 'us', '.']\n",
            "['my', 'second', 'vision', 'for', 'india', '’', 's', 'develop', '.']\n",
            "['for', 'fifti', 'year', 'we', 'have', 'been', 'a', 'develop', 'nation', '.']\n",
            "['it', 'is', 'time', 'we', 'see', 'ourselv', 'as', 'a', 'develop', 'nation', '.']\n",
            "['we', 'are', 'among', 'the', 'top', '5', 'nation', 'of', 'the', 'world', 'in', 'term', 'of', 'gdp', '.']\n",
            "['we', 'have', 'a', '10', 'percent', 'growth', 'rate', 'in', 'most', 'area', '.']\n",
            "['our', 'poverti', 'level', 'are', 'fall', '.']\n",
            "['our', 'achiev', 'are', 'be', 'global', 'recognis', 'today', '.']\n",
            "['yet', 'we', 'lack', 'the', 'self-confid', 'to', 'see', 'ourselv', 'as', 'a', 'develop', 'nation', ',', 'self-reli', 'and', 'self-assur', '.']\n",
            "['isn', '’', 't', 'thi', 'incorrect', '?']\n",
            "['i', 'have', 'a', 'third', 'vision', '.']\n",
            "['india', 'must', 'stand', 'up', 'to', 'the', 'world', '.']\n",
            "['becaus', 'i', 'believ', 'that', 'unless', 'india', 'stand', 'up', 'to', 'the', 'world', ',', 'no', 'one', 'will', 'respect', 'us', '.']\n",
            "['onli', 'strength', 'respect', 'strength', '.']\n",
            "['we', 'must', 'be', 'strong', 'not', 'onli', 'as', 'a', 'militari', 'power', 'but', 'also', 'as', 'an', 'econom', 'power', '.']\n",
            "['both', 'must', 'go', 'hand-in-hand', '.']\n",
            "['my', 'good', 'fortun', 'wa', 'to', 'have', 'work', 'with', 'three', 'great', 'mind', '.']\n",
            "['dr.', 'vikram', 'sarabhai', 'of', 'the', 'dept', '.']\n",
            "['of', 'space', ',', 'professor', 'satish', 'dhawan', ',', 'who', 'succeed', 'him', 'and', 'dr.', 'brahm', 'prakash', ',', 'father', 'of', 'nuclear', 'materi', '.']\n",
            "['i', 'wa', 'lucki', 'to', 'have', 'work', 'with', 'all', 'three', 'of', 'them', 'close', 'and', 'consid', 'thi', 'the', 'great', 'opportun', 'of', 'my', 'life', '.']\n",
            "['i', 'see', 'four', 'mileston', 'in', 'my', 'career']\n"
          ]
        }
      ]
    },
    {
      "cell_type": "code",
      "source": [
        "# Removed words using stop words\n",
        "for i in range(len(documents)):\n",
        "    words=nltk.word_tokenize(documents[i])\n",
        "    words=[stemmer.stem(word) for word in words if word not in set(stopwords.words('english'))]\n",
        "    print(words)"
      ],
      "metadata": {
        "colab": {
          "base_uri": "https://localhost:8080/"
        },
        "id": "pFxtZvKU3Z5M",
        "outputId": "44d7a55e-5d60-4554-a59e-23a5c085076b"
      },
      "execution_count": 18,
      "outputs": [
        {
          "output_type": "stream",
          "name": "stdout",
          "text": [
            "['i', 'three', 'vision', 'india', '.']\n",
            "['in', '3000', 'year', 'histori', ',', 'peopl', 'world', 'come', 'invad', 'us', ',', 'captur', 'land', ',', 'conquer', 'mind', '.']\n",
            "['from', 'alexand', 'onward', ',', 'greek', ',', 'turk', ',', 'mogul', ',', 'portugues', ',', 'british', ',', 'french', ',', 'dutch', ',', 'came', 'loot', 'us', ',', 'took', '.']\n",
            "['yet', 'done', 'nation', '.']\n",
            "['we', 'conquer', 'anyon', '.']\n",
            "['we', 'grab', 'land', ',', 'cultur', ',', 'histori', 'tri', 'enforc', 'way', 'life', '.']\n",
            "['whi', '?']\n",
            "['becaus', 'respect', 'freedom', 'others.that', 'first', 'vision', 'freedom', '.']\n",
            "['i', 'believ', 'india', 'got', 'first', 'vision', '1857', ',', 'start', 'war', 'independ', '.']\n",
            "['it', 'freedom', 'must', 'protect', 'nurtur', 'build', '.']\n",
            "['if', 'free', ',', 'one', 'respect', 'us', '.']\n",
            "['my', 'second', 'vision', 'india', '’', 'develop', '.']\n",
            "['for', 'fifti', 'year', 'develop', 'nation', '.']\n",
            "['it', 'time', 'see', 'develop', 'nation', '.']\n",
            "['we', 'among', 'top', '5', 'nation', 'world', 'term', 'gdp', '.']\n",
            "['we', '10', 'percent', 'growth', 'rate', 'area', '.']\n",
            "['our', 'poverti', 'level', 'fall', '.']\n",
            "['our', 'achiev', 'global', 'recognis', 'today', '.']\n",
            "['yet', 'lack', 'self-confid', 'see', 'develop', 'nation', ',', 'self-reli', 'self-assur', '.']\n",
            "['isn', '’', 'incorrect', '?']\n",
            "['i', 'third', 'vision', '.']\n",
            "['india', 'must', 'stand', 'world', '.']\n",
            "['becaus', 'i', 'believ', 'unless', 'india', 'stand', 'world', ',', 'one', 'respect', 'us', '.']\n",
            "['onli', 'strength', 'respect', 'strength', '.']\n",
            "['we', 'must', 'strong', 'militari', 'power', 'also', 'econom', 'power', '.']\n",
            "['both', 'must', 'go', 'hand-in-hand', '.']\n",
            "['my', 'good', 'fortun', 'work', 'three', 'great', 'mind', '.']\n",
            "['dr.', 'vikram', 'sarabhai', 'dept', '.']\n",
            "['space', ',', 'professor', 'satish', 'dhawan', ',', 'succeed', 'dr.', 'brahm', 'prakash', ',', 'father', 'nuclear', 'materi', '.']\n",
            "['i', 'lucki', 'work', 'three', 'close', 'consid', 'great', 'opportun', 'life', '.']\n",
            "['i', 'see', 'four', 'mileston', 'career']\n"
          ]
        }
      ]
    }
  ]
}
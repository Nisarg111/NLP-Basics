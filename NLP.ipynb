{
  "nbformat": 4,
  "nbformat_minor": 0,
  "metadata": {
    "colab": {
      "provenance": [],
      "authorship_tag": "ABX9TyPCjFDBuvxcLafWbBLT4MsD",
      "include_colab_link": true
    },
    "kernelspec": {
      "name": "python3",
      "display_name": "Python 3"
    },
    "language_info": {
      "name": "python"
    }
  },
  "cells": [
    {
      "cell_type": "markdown",
      "metadata": {
        "id": "view-in-github",
        "colab_type": "text"
      },
      "source": [
        "<a href=\"https://colab.research.google.com/github/Nisarg111/NLP-Basics/blob/main/NLP.ipynb\" target=\"_parent\"><img src=\"https://colab.research.google.com/assets/colab-badge.svg\" alt=\"Open In Colab\"/></a>"
      ]
    },
    {
      "cell_type": "code",
      "execution_count": 1,
      "metadata": {
        "colab": {
          "base_uri": "https://localhost:8080/"
        },
        "id": "SxXxpHO7SGS4",
        "outputId": "6f4b56a6-954b-42b5-98f9-12c2b5df9131"
      },
      "outputs": [
        {
          "output_type": "stream",
          "name": "stdout",
          "text": [
            "Requirement already satisfied: nltk in /usr/local/lib/python3.10/dist-packages (3.8.1)\n",
            "Requirement already satisfied: click in /usr/local/lib/python3.10/dist-packages (from nltk) (8.1.7)\n",
            "Requirement already satisfied: joblib in /usr/local/lib/python3.10/dist-packages (from nltk) (1.4.2)\n",
            "Requirement already satisfied: regex>=2021.8.3 in /usr/local/lib/python3.10/dist-packages (from nltk) (2024.5.15)\n",
            "Requirement already satisfied: tqdm in /usr/local/lib/python3.10/dist-packages (from nltk) (4.66.4)\n"
          ]
        }
      ],
      "source": [
        "!pip install nltk"
      ]
    },
    {
      "cell_type": "code",
      "source": [
        "data = \"\"\"Check your Internet speed in under 30 seconds. The speed test usually transfers less than 40 MB of data, but may transfer more data on fast connections.\n",
        "\n",
        "To run the test, you'll be connected to Measurement Lab (M-Lab) and your IP address will be shared with them and processed by them in accordance with their privacy policy. M-Lab conducts the test and publicly publishes all test results to promote Internet research. Published information includes your IP address and test results, but doesn’t include any other information about you as an Internet user.\"\"\""
      ],
      "metadata": {
        "id": "fvILUPRMSWjA"
      },
      "execution_count": 2,
      "outputs": []
    },
    {
      "cell_type": "code",
      "source": [
        "import nltk\n",
        "from nltk.stem import PorterStemmer\n",
        "from nltk.corpus import stopwords\n",
        "stemmer = PorterStemmer()"
      ],
      "metadata": {
        "id": "h3pM1QNabnpz"
      },
      "execution_count": 16,
      "outputs": []
    },
    {
      "cell_type": "code",
      "source": [
        "nltk.download('punkt')"
      ],
      "metadata": {
        "colab": {
          "base_uri": "https://localhost:8080/"
        },
        "id": "n0DSpp_fgzqb",
        "outputId": "4a2de9fd-cefe-45e4-d926-c2d9345bde88"
      },
      "execution_count": 4,
      "outputs": [
        {
          "output_type": "stream",
          "name": "stderr",
          "text": [
            "[nltk_data] Downloading package punkt to /root/nltk_data...\n",
            "[nltk_data]   Unzipping tokenizers/punkt.zip.\n"
          ]
        },
        {
          "output_type": "execute_result",
          "data": {
            "text/plain": [
              "True"
            ]
          },
          "metadata": {},
          "execution_count": 4
        }
      ]
    },
    {
      "cell_type": "code",
      "source": [
        "sentences = nltk.sent_tokenize(data)\n"
      ],
      "metadata": {
        "id": "kIMbd4sAg3Mb"
      },
      "execution_count": 7,
      "outputs": []
    },
    {
      "cell_type": "code",
      "source": [
        "sentences"
      ],
      "metadata": {
        "colab": {
          "base_uri": "https://localhost:8080/"
        },
        "id": "tcMynXvZg9VT",
        "outputId": "241ff586-98da-401f-f88d-a1436643a82a"
      },
      "execution_count": 8,
      "outputs": [
        {
          "output_type": "execute_result",
          "data": {
            "text/plain": [
              "['Check your Internet speed in under 30 seconds.',\n",
              " 'The speed test usually transfers less than 40 MB of data, but may transfer more data on fast connections.',\n",
              " \"To run the test, you'll be connected to Measurement Lab (M-Lab) and your IP address will be shared with them and processed by them in accordance with their privacy policy.\",\n",
              " 'M-Lab conducts the test and publicly publishes all test results to promote Internet research.',\n",
              " 'Published information includes your IP address and test results, but doesn’t include any other information about you as an Internet user.']"
            ]
          },
          "metadata": {},
          "execution_count": 8
        }
      ]
    },
    {
      "cell_type": "code",
      "source": [
        "import re\n",
        "corpus = []\n",
        "for i in range(len(sentences)):\n",
        "  review = re.sub('[^a-zA-Z]', ' ', sentences[i])\n",
        "  review = review.lower()\n",
        "  corpus.append(review)\n"
      ],
      "metadata": {
        "id": "ZK1Al4vAhBtS"
      },
      "execution_count": 10,
      "outputs": []
    },
    {
      "cell_type": "code",
      "source": [
        "corpus"
      ],
      "metadata": {
        "colab": {
          "base_uri": "https://localhost:8080/"
        },
        "id": "oJHoVCzshpjo",
        "outputId": "4dad6fdb-9182-494e-9190-c5bd34d099c5"
      },
      "execution_count": 11,
      "outputs": [
        {
          "output_type": "execute_result",
          "data": {
            "text/plain": [
              "['check your internet speed in under    seconds ',\n",
              " 'the speed test usually transfers less than    mb of data  but may transfer more data on fast connections ',\n",
              " 'to run the test  you ll be connected to measurement lab  m lab  and your ip address will be shared with them and processed by them in accordance with their privacy policy ',\n",
              " 'm lab conducts the test and publicly publishes all test results to promote internet research ',\n",
              " 'published information includes your ip address and test results  but doesn t include any other information about you as an internet user ']"
            ]
          },
          "metadata": {},
          "execution_count": 11
        }
      ]
    },
    {
      "cell_type": "code",
      "source": [
        "import nltk\n",
        "nltk.download('stopwords')"
      ],
      "metadata": {
        "colab": {
          "base_uri": "https://localhost:8080/"
        },
        "id": "Wn0vsys8if6q",
        "outputId": "a427a4a7-9727-4a9a-87a7-754391d08cd8"
      },
      "execution_count": 14,
      "outputs": [
        {
          "output_type": "stream",
          "name": "stderr",
          "text": [
            "[nltk_data] Downloading package stopwords to /root/nltk_data...\n",
            "[nltk_data]   Unzipping corpora/stopwords.zip.\n"
          ]
        },
        {
          "output_type": "execute_result",
          "data": {
            "text/plain": [
              "True"
            ]
          },
          "metadata": {},
          "execution_count": 14
        }
      ]
    },
    {
      "cell_type": "code",
      "source": [
        "for i in corpus:\n",
        "  words = nltk.word_tokenize(i)\n",
        "  for word in words:\n",
        "    if word not in stopwords.words('english'):\n",
        "      print(stemmer.stem(word))"
      ],
      "metadata": {
        "colab": {
          "base_uri": "https://localhost:8080/"
        },
        "id": "HzZjCES4h9iC",
        "outputId": "f5278977-bc71-4a86-aed4-824732de838e"
      },
      "execution_count": 17,
      "outputs": [
        {
          "output_type": "stream",
          "name": "stdout",
          "text": [
            "check\n",
            "internet\n",
            "speed\n",
            "second\n",
            "speed\n",
            "test\n",
            "usual\n",
            "transfer\n",
            "less\n",
            "mb\n",
            "data\n",
            "may\n",
            "transfer\n",
            "data\n",
            "fast\n",
            "connect\n",
            "run\n",
            "test\n",
            "connect\n",
            "measur\n",
            "lab\n",
            "lab\n",
            "ip\n",
            "address\n",
            "share\n",
            "process\n",
            "accord\n",
            "privaci\n",
            "polici\n",
            "lab\n",
            "conduct\n",
            "test\n",
            "publicli\n",
            "publish\n",
            "test\n",
            "result\n",
            "promot\n",
            "internet\n",
            "research\n",
            "publish\n",
            "inform\n",
            "includ\n",
            "ip\n",
            "address\n",
            "test\n",
            "result\n",
            "includ\n",
            "inform\n",
            "internet\n",
            "user\n"
          ]
        }
      ]
    },
    {
      "cell_type": "code",
      "source": [
        "from sklearn.feature_extraction.text import CountVectorizer\n",
        "cv = CountVectorizer()\n",
        "X = cv.fit_transform(corpus).toarray()"
      ],
      "metadata": {
        "id": "DegMxZtOiZ3I"
      },
      "execution_count": 18,
      "outputs": []
    },
    {
      "cell_type": "code",
      "source": [
        "X[0]"
      ],
      "metadata": {
        "colab": {
          "base_uri": "https://localhost:8080/"
        },
        "id": "TwcPDns3jAM_",
        "outputId": "22d05a6d-ee48-4526-dad7-c91f49e6921e"
      },
      "execution_count": 19,
      "outputs": [
        {
          "output_type": "execute_result",
          "data": {
            "text/plain": [
              "array([0, 0, 0, 0, 0, 0, 0, 0, 0, 0, 0, 1, 0, 0, 0, 0, 0, 0, 1, 0, 0, 0,\n",
              "       1, 0, 0, 0, 0, 0, 0, 0, 0, 0, 0, 0, 0, 0, 0, 0, 0, 0, 0, 0, 0, 0,\n",
              "       1, 0, 1, 0, 0, 0, 0, 0, 0, 0, 0, 1, 0, 0, 0, 0, 0, 1])"
            ]
          },
          "metadata": {},
          "execution_count": 19
        }
      ]
    },
    {
      "cell_type": "code",
      "source": [
        "cv.vocabulary_"
      ],
      "metadata": {
        "colab": {
          "base_uri": "https://localhost:8080/"
        },
        "id": "gz_jtBNSjEKL",
        "outputId": "a43db2b2-2716-4477-bc8c-320a965823fe"
      },
      "execution_count": 20,
      "outputs": [
        {
          "output_type": "execute_result",
          "data": {
            "text/plain": [
              "{'check': 11,\n",
              " 'your': 61,\n",
              " 'internet': 22,\n",
              " 'speed': 46,\n",
              " 'in': 18,\n",
              " 'under': 55,\n",
              " 'seconds': 44,\n",
              " 'the': 49,\n",
              " 'test': 47,\n",
              " 'usually': 57,\n",
              " 'transfers': 54,\n",
              " 'less': 25,\n",
              " 'than': 48,\n",
              " 'mb': 28,\n",
              " 'of': 31,\n",
              " 'data': 15,\n",
              " 'but': 9,\n",
              " 'may': 27,\n",
              " 'transfer': 53,\n",
              " 'more': 30,\n",
              " 'on': 32,\n",
              " 'fast': 17,\n",
              " 'connections': 14,\n",
              " 'to': 52,\n",
              " 'run': 43,\n",
              " 'you': 60,\n",
              " 'll': 26,\n",
              " 'be': 8,\n",
              " 'connected': 13,\n",
              " 'measurement': 29,\n",
              " 'lab': 24,\n",
              " 'and': 5,\n",
              " 'ip': 23,\n",
              " 'address': 2,\n",
              " 'will': 58,\n",
              " 'shared': 45,\n",
              " 'with': 59,\n",
              " 'them': 51,\n",
              " 'processed': 36,\n",
              " 'by': 10,\n",
              " 'accordance': 1,\n",
              " 'their': 50,\n",
              " 'privacy': 35,\n",
              " 'policy': 34,\n",
              " 'conducts': 12,\n",
              " 'publicly': 38,\n",
              " 'publishes': 40,\n",
              " 'all': 3,\n",
              " 'results': 42,\n",
              " 'promote': 37,\n",
              " 'research': 41,\n",
              " 'published': 39,\n",
              " 'information': 21,\n",
              " 'includes': 20,\n",
              " 'doesn': 16,\n",
              " 'include': 19,\n",
              " 'any': 6,\n",
              " 'other': 33,\n",
              " 'about': 0,\n",
              " 'as': 7,\n",
              " 'an': 4,\n",
              " 'user': 56}"
            ]
          },
          "metadata": {},
          "execution_count": 20
        }
      ]
    }
  ]
}
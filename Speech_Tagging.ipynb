{
  "nbformat": 4,
  "nbformat_minor": 0,
  "metadata": {
    "colab": {
      "provenance": [],
      "authorship_tag": "ABX9TyObXYs+bk76CLpUMrIXScU6",
      "include_colab_link": true
    },
    "kernelspec": {
      "name": "python3",
      "display_name": "Python 3"
    },
    "language_info": {
      "name": "python"
    }
  },
  "cells": [
    {
      "cell_type": "markdown",
      "metadata": {
        "id": "view-in-github",
        "colab_type": "text"
      },
      "source": [
        "<a href=\"https://colab.research.google.com/github/Nisarg111/NLP-Basics/blob/main/Speech_Tagging.ipynb\" target=\"_parent\"><img src=\"https://colab.research.google.com/assets/colab-badge.svg\" alt=\"Open In Colab\"/></a>"
      ]
    },
    {
      "cell_type": "code",
      "execution_count": null,
      "metadata": {
        "id": "h4oxgpWp5par"
      },
      "outputs": [],
      "source": [
        ""
      ]
    },
    {
      "cell_type": "markdown",
      "source": [
        "**Refrenece**\n",
        "https://github.com/krishnaik06/Complete-Data-Science-With-Machine-Learning-And-NLP-2024/blob/main/26-CompleteNLP%20For%20Machine%20Learning/Practicals/8-Parts%20Of%20Speech%20Tagging.ipynb"
      ],
      "metadata": {
        "id": "yP4lvd5w7Fxy"
      }
    },
    {
      "cell_type": "code",
      "source": [
        "paragraph = \"\"\"An encyclopedia (American English) or encyclopaedia (British English) is a reference work or compendium providing summaries of knowledge, either general or special, in a particular field or discipline. Encyclopedias are divided into articles or entries that are arranged alphabetically by article name or by thematic categories, or else are hyperlinked and searchable. Encyclopedia entries are longer and more detailed than those in most dictionaries. Generally speaking, encyclopedia articles focus on factual information concerning the subject named in the article's title; this is unlike dictionary entries, which focus on linguistic information about words, such as their etymology, meaning, pronunciation, use, and grammatical forms.\"\"\""
      ],
      "metadata": {
        "id": "hY2Eln277JIf"
      },
      "execution_count": 1,
      "outputs": []
    },
    {
      "cell_type": "code",
      "source": [
        "import nltk\n",
        "nltk.download('punkt')"
      ],
      "metadata": {
        "colab": {
          "base_uri": "https://localhost:8080/"
        },
        "id": "z8QI8iqx7uHU",
        "outputId": "7cbaa88d-83d9-4ea3-c902-3cac963274f1"
      },
      "execution_count": 3,
      "outputs": [
        {
          "output_type": "stream",
          "name": "stderr",
          "text": [
            "[nltk_data] Downloading package punkt to /root/nltk_data...\n",
            "[nltk_data]   Unzipping tokenizers/punkt.zip.\n"
          ]
        },
        {
          "output_type": "execute_result",
          "data": {
            "text/plain": [
              "True"
            ]
          },
          "metadata": {},
          "execution_count": 3
        }
      ]
    },
    {
      "cell_type": "code",
      "source": [
        "from nltk.tokenize import sent_tokenize, word_tokenize\n",
        "list = sent_tokenize(paragraph)\n",
        "list"
      ],
      "metadata": {
        "colab": {
          "base_uri": "https://localhost:8080/"
        },
        "id": "NHLoDw7s7kNy",
        "outputId": "ddb79d48-f5fa-408d-94ee-4d54020540db"
      },
      "execution_count": 5,
      "outputs": [
        {
          "output_type": "execute_result",
          "data": {
            "text/plain": [
              "['An encyclopedia (American English) or encyclopaedia (British English) is a reference work or compendium providing summaries of knowledge, either general or special, in a particular field or discipline.',\n",
              " 'Encyclopedias are divided into articles or entries that are arranged alphabetically by article name or by thematic categories, or else are hyperlinked and searchable.',\n",
              " 'Encyclopedia entries are longer and more detailed than those in most dictionaries.',\n",
              " \"Generally speaking, encyclopedia articles focus on factual information concerning the subject named in the article's title; this is unlike dictionary entries, which focus on linguistic information about words, such as their etymology, meaning, pronunciation, use, and grammatical forms.\"]"
            ]
          },
          "metadata": {},
          "execution_count": 5
        }
      ]
    },
    {
      "cell_type": "code",
      "source": [
        "from nltk.corpus import stopwords\n",
        "from nltk.stem import PorterStemmer\n"
      ],
      "metadata": {
        "id": "zbYcHEm574Tv"
      },
      "execution_count": 6,
      "outputs": []
    },
    {
      "cell_type": "code",
      "source": [
        "stemmer = PorterStemmer()"
      ],
      "metadata": {
        "id": "TP6ps79p8CaZ"
      },
      "execution_count": 8,
      "outputs": []
    },
    {
      "cell_type": "code",
      "source": [
        "import nltk\n",
        "nltk.download('wordnet')"
      ],
      "metadata": {
        "colab": {
          "base_uri": "https://localhost:8080/"
        },
        "id": "qe7Yo2Hp8krx",
        "outputId": "3f519c37-e4b7-45a4-fb75-1300a3e90b54"
      },
      "execution_count": 10,
      "outputs": [
        {
          "output_type": "stream",
          "name": "stderr",
          "text": [
            "[nltk_data] Downloading package wordnet to /root/nltk_data...\n"
          ]
        },
        {
          "output_type": "execute_result",
          "data": {
            "text/plain": [
              "True"
            ]
          },
          "metadata": {},
          "execution_count": 10
        }
      ]
    },
    {
      "cell_type": "code",
      "source": [
        "import nltk\n",
        "nltk.download('stopwords')"
      ],
      "metadata": {
        "colab": {
          "base_uri": "https://localhost:8080/"
        },
        "id": "RkMJQYKL-4Mn",
        "outputId": "e841ed2d-6c6c-42e7-d9d7-86963b8b5e8a"
      },
      "execution_count": 21,
      "outputs": [
        {
          "output_type": "stream",
          "name": "stderr",
          "text": [
            "[nltk_data] Downloading package stopwords to /root/nltk_data...\n",
            "[nltk_data]   Unzipping corpora/stopwords.zip.\n"
          ]
        },
        {
          "output_type": "execute_result",
          "data": {
            "text/plain": [
              "True"
            ]
          },
          "metadata": {},
          "execution_count": 21
        }
      ]
    },
    {
      "cell_type": "code",
      "source": [
        "import nltk\n",
        "nltk.download('averaged_perceptron_tagger')"
      ],
      "metadata": {
        "colab": {
          "base_uri": "https://localhost:8080/"
        },
        "id": "cVUmB1S-_jRN",
        "outputId": "160e46c3-063c-4aa3-ee8d-e5d97e0ccfce"
      },
      "execution_count": 28,
      "outputs": [
        {
          "output_type": "stream",
          "name": "stderr",
          "text": [
            "[nltk_data] Downloading package averaged_perceptron_tagger to\n",
            "[nltk_data]     /root/nltk_data...\n",
            "[nltk_data]   Unzipping taggers/averaged_perceptron_tagger.zip.\n"
          ]
        },
        {
          "output_type": "execute_result",
          "data": {
            "text/plain": [
              "True"
            ]
          },
          "metadata": {},
          "execution_count": 28
        }
      ]
    },
    {
      "cell_type": "code",
      "source": [
        "words = []\n",
        "for i in range(len(list)):\n",
        "    words = word_tokenize(list[i])\n",
        "    words = [word for word in words if word not in stopwords.words('english')]\n",
        "    words = [stemmer.lemmatize(word) for word in words]\n",
        "    pos_tag = nltk.pos_tag(words)\n",
        "    print(pos_tag)"
      ],
      "metadata": {
        "colab": {
          "base_uri": "https://localhost:8080/"
        },
        "id": "JDr8eZhM7sNm",
        "outputId": "18cb2279-e717-4467-8a08-6668a4a1f09d"
      },
      "execution_count": 29,
      "outputs": [
        {
          "output_type": "stream",
          "name": "stdout",
          "text": [
            "[('An', 'DT'), ('encyclopedia', 'NN'), ('(', '('), ('American', 'JJ'), ('English', 'NNP'), (')', ')'), ('encyclopaedia', 'FW'), ('(', '('), ('British', 'JJ'), ('English', 'NNP'), (')', ')'), ('reference', 'NN'), ('work', 'NN'), ('compendium', 'NN'), ('providing', 'VBG'), ('summary', 'JJ'), ('knowledge', 'NN'), (',', ','), ('either', 'DT'), ('general', 'JJ'), ('special', 'NN'), (',', ','), ('particular', 'JJ'), ('field', 'NN'), ('discipline', 'NN'), ('.', '.')]\n",
            "[('Encyclopedias', 'NNP'), ('divided', 'VBD'), ('article', 'NN'), ('entry', 'NN'), ('arranged', 'VBD'), ('alphabetically', 'RB'), ('article', 'NN'), ('name', 'NN'), ('thematic', 'JJ'), ('category', 'NN'), (',', ','), ('else', 'RB'), ('hyperlinked', 'VBD'), ('searchable', 'JJ'), ('.', '.')]\n",
            "[('Encyclopedia', 'NNP'), ('entry', 'NN'), ('longer', 'RB'), ('detailed', 'JJ'), ('dictionary', 'NN'), ('.', '.')]\n",
            "[('Generally', 'RB'), ('speaking', 'VBG'), (',', ','), ('encyclopedia', 'JJ'), ('article', 'NN'), ('focus', 'NN'), ('factual', 'JJ'), ('information', 'NN'), ('concerning', 'VBG'), ('subject', 'NN'), ('named', 'VBN'), ('article', 'NN'), (\"'s\", 'POS'), ('title', 'NN'), (';', ':'), ('unlike', 'IN'), ('dictionary', 'JJ'), ('entry', 'NN'), (',', ','), ('focus', 'VB'), ('linguistic', 'JJ'), ('information', 'NN'), ('word', 'NN'), (',', ','), ('etymology', 'NN'), (',', ','), ('meaning', 'NN'), (',', ','), ('pronunciation', 'NN'), (',', ','), ('use', 'NN'), (',', ','), ('grammatical', 'JJ'), ('form', 'NN'), ('.', '.')]\n"
          ]
        }
      ]
    },
    {
      "cell_type": "code",
      "source": [],
      "metadata": {
        "colab": {
          "base_uri": "https://localhost:8080/"
        },
        "id": "2gpUYN4U_Qbk",
        "outputId": "baef17ee-d4a0-42ea-efd9-830553933622"
      },
      "execution_count": 26,
      "outputs": [
        {
          "output_type": "stream",
          "name": "stdout",
          "text": [
            "Generally\n"
          ]
        }
      ]
    }
  ]
}
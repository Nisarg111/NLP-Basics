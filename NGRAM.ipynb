{
  "nbformat": 4,
  "nbformat_minor": 0,
  "metadata": {
    "colab": {
      "provenance": [],
      "authorship_tag": "ABX9TyPZwhmaXGf8rASb+CnEbpwa",
      "include_colab_link": true
    },
    "kernelspec": {
      "name": "python3",
      "display_name": "Python 3"
    },
    "language_info": {
      "name": "python"
    }
  },
  "cells": [
    {
      "cell_type": "markdown",
      "metadata": {
        "id": "view-in-github",
        "colab_type": "text"
      },
      "source": [
        "<a href=\"https://colab.research.google.com/github/Nisarg111/NLP-Basics/blob/main/NGRAM.ipynb\" target=\"_parent\"><img src=\"https://colab.research.google.com/assets/colab-badge.svg\" alt=\"Open In Colab\"/></a>"
      ]
    },
    {
      "cell_type": "code",
      "execution_count": 2,
      "metadata": {
        "colab": {
          "base_uri": "https://localhost:8080/"
        },
        "id": "5QjYl5dDvkwz",
        "outputId": "45ecbc3c-520a-444e-a16f-86b4f0e5ca34"
      },
      "outputs": [
        {
          "output_type": "stream",
          "name": "stderr",
          "text": [
            "[nltk_data] Downloading package stopwords to /root/nltk_data...\n",
            "[nltk_data]   Package stopwords is already up-to-date!\n"
          ]
        }
      ],
      "source": [
        "import pandas as pd\n",
        "df = pd.read_csv('https://github.com/Nisarg111/NLP-Basics/blob/main/spam_processed.csv?raw=true')\n",
        "df.drop('Unnamed: 0',axis=1)\n",
        "import re\n",
        "import nltk\n",
        "nltk.download('stopwords')\n",
        "from nltk.corpus import stopwords\n",
        "from nltk.stem.porter import PorterStemmer\n",
        "ps=PorterStemmer()\n",
        "corpus=[]\n",
        "for i in range(0,len(df)):\n",
        "    review=re.sub('[^a-zA-z]',' ',df['message'][i])\n",
        "    review=review.lower()\n",
        "    review=review.split()\n",
        "    review=[ps.stem(word) for word in review if not word in stopwords.words('english')]\n",
        "    review=' '.join(review)\n",
        "    corpus.append(review)\n"
      ]
    },
    {
      "cell_type": "code",
      "source": [
        "# Count Vectorizer is used for N gram implimentation. Its parameter are as follows:\n",
        "# Max_feature specify the top n words used in the dataset\n",
        "# binary means if same word is repeated in same sentence it will represented by 1, if false it will show the count of word\n",
        "# ngram specified the combination of words to created first argument is least no. of word combination and second is max no. of words\n",
        "# to be extracted\n",
        "# From the given example, it will create ngrams of aleast of two words and max of 10 words\n",
        "\n",
        "from sklearn.feature_extraction.text import CountVectorizer\n",
        "## for Binary BOW enable binary=True\n",
        "cv=CountVectorizer(max_features=100,binary=True,ngram_range=(2,10))\n",
        "X=cv.fit_transform(corpus).toarray()"
      ],
      "metadata": {
        "id": "YHbktl7NwYdK"
      },
      "execution_count": 14,
      "outputs": []
    },
    {
      "cell_type": "code",
      "source": [
        "cv.vocabulary_"
      ],
      "metadata": {
        "colab": {
          "base_uri": "https://localhost:8080/"
        },
        "id": "m8NfoSr6wf1Y",
        "outputId": "2246b5ad-d4f6-4aba-da17-1fac4c3a796b"
      },
      "execution_count": 15,
      "outputs": [
        {
          "output_type": "execute_result",
          "data": {
            "text/plain": [
              "{'free entri': 31,\n",
              " 'claim call': 16,\n",
              " 'call claim': 3,\n",
              " 'free call': 30,\n",
              " 'chanc win': 15,\n",
              " 'txt word': 91,\n",
              " 'let know': 53,\n",
              " 'go home': 34,\n",
              " 'pleas call': 68,\n",
              " 'lt gt': 59,\n",
              " 'want go': 97,\n",
              " 'like lt': 54,\n",
              " 'like lt gt': 55,\n",
              " 'sorri call': 83,\n",
              " 'call later': 11,\n",
              " 'sorri call later': 84,\n",
              " 'ur award': 92,\n",
              " 'call custom': 4,\n",
              " 'custom servic': 21,\n",
              " 'call custom servic': 5,\n",
              " 'tri contact': 89,\n",
              " 'draw show': 25,\n",
              " 'show prize': 81,\n",
              " 'prize guarante': 73,\n",
              " 'guarante call': 40,\n",
              " 'valid hr': 95,\n",
              " 'draw show prize': 26,\n",
              " 'prize guarante call': 74,\n",
              " 'draw show prize guarante': 27,\n",
              " 'show prize guarante call': 82,\n",
              " 'draw show prize guarante call': 28,\n",
              " 'select receiv': 78,\n",
              " 'privat account': 70,\n",
              " 'account statement': 0,\n",
              " 'call identifi': 6,\n",
              " 'identifi code': 47,\n",
              " 'code expir': 18,\n",
              " 'privat account statement': 71,\n",
              " 'call identifi code': 7,\n",
              " 'identifi code expir': 48,\n",
              " 'urgent mobil': 94,\n",
              " 'call landlin': 10,\n",
              " 'wat time': 98,\n",
              " 'ur mob': 93,\n",
              " 'new year': 63,\n",
              " 'send stop': 80,\n",
              " 'get back': 33,\n",
              " 'co uk': 17,\n",
              " 'nice day': 64,\n",
              " 'lt decim': 57,\n",
              " 'decim gt': 23,\n",
              " 'lt decim gt': 58,\n",
              " 'good morn': 35,\n",
              " 'good night': 36,\n",
              " 'repli call': 77,\n",
              " 'po box': 69,\n",
              " 'last night': 52,\n",
              " 'pick phone': 66,\n",
              " 'pl send': 67,\n",
              " 'send messag': 79,\n",
              " 'great day': 37,\n",
              " 'suit land': 85,\n",
              " 'land row': 51,\n",
              " 'suit land row': 86,\n",
              " 'take care': 87,\n",
              " 'call mobileupd': 12,\n",
              " 'call optout': 13,\n",
              " 'gt min': 39,\n",
              " 'lt gt min': 60,\n",
              " 'txt stop': 90,\n",
              " 'date servic': 22,\n",
              " 'call land': 8,\n",
              " 'land line': 49,\n",
              " 'line claim': 56,\n",
              " 'guarante call land': 41,\n",
              " 'call land line': 9,\n",
              " 'land line claim': 50,\n",
              " 'prize guarante call land': 75,\n",
              " 'guarante call land line': 42,\n",
              " 'prize guarante call land line': 76,\n",
              " 'guarante call land line claim': 43,\n",
              " 'gt lt': 38,\n",
              " 'hope good': 46,\n",
              " 'free text': 32,\n",
              " 'prize claim': 72,\n",
              " 'nd attempt': 62,\n",
              " 'attempt contact': 1,\n",
              " 'ok lor': 65,\n",
              " 'want come': 96,\n",
              " 'everi week': 29,\n",
              " 'come home': 20,\n",
              " 'happi new': 44,\n",
              " 'happi new year': 45,\n",
              " 'nation rate': 61,\n",
              " 'week txt': 99,\n",
              " 'tell ur': 88,\n",
              " 'await collect': 2,\n",
              " 'dont know': 24,\n",
              " 'come back': 19,\n",
              " 'call per': 14}"
            ]
          },
          "metadata": {},
          "execution_count": 15
        }
      ]
    }
  ]
}